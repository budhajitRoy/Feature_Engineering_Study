{
 "cells": [
  {
   "cell_type": "markdown",
   "id": "acf4cf01",
   "metadata": {},
   "source": [
    "## Discretisation with Decision Trees using Feature-Engine\n",
    "\n",
    "\n",
    "feature Engine allows you to implement decision tree discretisation on all your numerical variables very easily, including search over the multiple parameters of the decision tree, to find the best one.\n",
    "\n",
    "## In this demo\n",
    "\n",
    "We will learn how to perform discretisation with decision trees and Feature-Engine using the Titanic dataset."
   ]
  },
  {
   "cell_type": "code",
   "execution_count": 104,
   "id": "bdf23633",
   "metadata": {},
   "outputs": [],
   "source": [
    "# import libraries\n",
    "\n",
    "import numpy as np\n",
    "import pandas as pd\n",
    "\n",
    "import matplotlib.pyplot as plt\n",
    "\n",
    "from sklearn.model_selection import train_test_split\n",
    "\n",
    "from feature_engine.discretisation import DecisionTreeDiscretiser"
   ]
  },
  {
   "cell_type": "code",
   "execution_count": 105,
   "id": "3d64052c",
   "metadata": {},
   "outputs": [
    {
     "data": {
      "text/html": [
       "<div>\n",
       "<style scoped>\n",
       "    .dataframe tbody tr th:only-of-type {\n",
       "        vertical-align: middle;\n",
       "    }\n",
       "\n",
       "    .dataframe tbody tr th {\n",
       "        vertical-align: top;\n",
       "    }\n",
       "\n",
       "    .dataframe thead th {\n",
       "        text-align: right;\n",
       "    }\n",
       "</style>\n",
       "<table border=\"1\" class=\"dataframe\">\n",
       "  <thead>\n",
       "    <tr style=\"text-align: right;\">\n",
       "      <th></th>\n",
       "      <th>survived</th>\n",
       "      <th>age</th>\n",
       "      <th>fare</th>\n",
       "    </tr>\n",
       "  </thead>\n",
       "  <tbody>\n",
       "    <tr>\n",
       "      <th>0</th>\n",
       "      <td>1</td>\n",
       "      <td>29.0000</td>\n",
       "      <td>211.3375</td>\n",
       "    </tr>\n",
       "    <tr>\n",
       "      <th>1</th>\n",
       "      <td>1</td>\n",
       "      <td>0.9167</td>\n",
       "      <td>151.5500</td>\n",
       "    </tr>\n",
       "    <tr>\n",
       "      <th>2</th>\n",
       "      <td>0</td>\n",
       "      <td>2.0000</td>\n",
       "      <td>151.5500</td>\n",
       "    </tr>\n",
       "    <tr>\n",
       "      <th>3</th>\n",
       "      <td>0</td>\n",
       "      <td>30.0000</td>\n",
       "      <td>151.5500</td>\n",
       "    </tr>\n",
       "    <tr>\n",
       "      <th>4</th>\n",
       "      <td>0</td>\n",
       "      <td>25.0000</td>\n",
       "      <td>151.5500</td>\n",
       "    </tr>\n",
       "  </tbody>\n",
       "</table>\n",
       "</div>"
      ],
      "text/plain": [
       "   survived      age      fare\n",
       "0         1  29.0000  211.3375\n",
       "1         1   0.9167  151.5500\n",
       "2         0   2.0000  151.5500\n",
       "3         0  30.0000  151.5500\n",
       "4         0  25.0000  151.5500"
      ]
     },
     "execution_count": 105,
     "metadata": {},
     "output_type": "execute_result"
    }
   ],
   "source": [
    "# load data\n",
    "\n",
    "cols = ['age','fare','survived']\n",
    "data = pd.read_csv('titanic.csv', usecols=cols)\n",
    "data.head()\n"
   ]
  },
  {
   "cell_type": "code",
   "execution_count": 65,
   "id": "bf4671a6",
   "metadata": {},
   "outputs": [
    {
     "name": "stdout",
     "output_type": "stream",
     "text": [
      "<class 'pandas.core.frame.DataFrame'>\n",
      "RangeIndex: 1309 entries, 0 to 1308\n",
      "Data columns (total 3 columns):\n",
      " #   Column    Non-Null Count  Dtype  \n",
      "---  ------    --------------  -----  \n",
      " 0   survived  1309 non-null   int64  \n",
      " 1   age       1046 non-null   float64\n",
      " 2   fare      1308 non-null   float64\n",
      "dtypes: float64(2), int64(1)\n",
      "memory usage: 30.8 KB\n"
     ]
    }
   ],
   "source": [
    "data.info()"
   ]
  },
  {
   "cell_type": "markdown",
   "id": "9a241411",
   "metadata": {},
   "source": [
    "- We can see there are also some null values in both age and fare variables\n",
    "- This also needs to be taken care"
   ]
  },
  {
   "cell_type": "code",
   "execution_count": 117,
   "id": "d37954be",
   "metadata": {},
   "outputs": [
    {
     "data": {
      "text/plain": [
       "((916, 2), (393, 2))"
      ]
     },
     "execution_count": 117,
     "metadata": {},
     "output_type": "execute_result"
    }
   ],
   "source": [
    "# Let's separate into train and test set\n",
    "\n",
    "X_train, X_test, y_train, y_test = train_test_split(\n",
    "    data[['age', 'fare']],\n",
    "    data['survived'],\n",
    "    test_size=0.3,\n",
    "    random_state=0)\n",
    "\n",
    "X_train.shape, X_test.shape"
   ]
  },
  {
   "cell_type": "markdown",
   "id": "a09079ca",
   "metadata": {},
   "source": [
    "- Imputing the missing data in age and fare by using random sample imputation"
   ]
  },
  {
   "cell_type": "code",
   "execution_count": 5,
   "id": "21bec645",
   "metadata": {},
   "outputs": [
    {
     "data": {
      "text/plain": [
       "501     13.0000\n",
       "588      4.0000\n",
       "402     30.0000\n",
       "1193        NaN\n",
       "686     22.0000\n",
       "         ...   \n",
       "763      0.1667\n",
       "835         NaN\n",
       "1216        NaN\n",
       "559     20.0000\n",
       "684     32.0000\n",
       "Name: age, Length: 916, dtype: float64"
      ]
     },
     "execution_count": 5,
     "metadata": {},
     "output_type": "execute_result"
    }
   ],
   "source": [
    "df = X_train['age'].copy()\n",
    "df"
   ]
  },
  {
   "cell_type": "code",
   "execution_count": 7,
   "id": "d2bc3e7f",
   "metadata": {},
   "outputs": [
    {
     "data": {
      "text/plain": [
       "1276    31.0\n",
       "551     50.0\n",
       "572     28.0\n",
       "316     51.0\n",
       "323     30.0\n",
       "        ... \n",
       "464     32.0\n",
       "42      59.0\n",
       "23      42.0\n",
       "1224    21.0\n",
       "823     31.0\n",
       "Name: age, Length: 175, dtype: float64"
      ]
     },
     "execution_count": 7,
     "metadata": {},
     "output_type": "execute_result"
    }
   ],
   "source": [
    "random_sample = df.dropna().sample(df.isnull().sum())\n",
    "random_sample"
   ]
  },
  {
   "cell_type": "code",
   "execution_count": 9,
   "id": "1fb53fa8",
   "metadata": {},
   "outputs": [
    {
     "data": {
      "text/plain": [
       "Int64Index([1193,  971, 1284, 1027, 1023, 1255, 1114, 1034,  384, 1137,\n",
       "            ...\n",
       "            1077, 1262,  802,  882,  976,  705,  277, 1033,  835, 1216],\n",
       "           dtype='int64', length=175)"
      ]
     },
     "execution_count": 9,
     "metadata": {},
     "output_type": "execute_result"
    }
   ],
   "source": [
    "# get the index of the random sample with the ones from the missing ones\n",
    "random_sample.index = df[df.isnull()].index\n",
    "random_sample.index"
   ]
  },
  {
   "cell_type": "code",
   "execution_count": 10,
   "id": "a409ebcf",
   "metadata": {},
   "outputs": [
    {
     "data": {
      "text/plain": [
       "0"
      ]
     },
     "execution_count": 10,
     "metadata": {},
     "output_type": "execute_result"
    }
   ],
   "source": [
    "# now set the random sample values to the missing variables in df\n",
    "df.loc[df.isnull()] = random_sample\n",
    "df.isnull().sum()"
   ]
  },
  {
   "cell_type": "code",
   "execution_count": 107,
   "id": "ab73d04d",
   "metadata": {},
   "outputs": [],
   "source": [
    "## lets write a function to perform these\n",
    "\n",
    "def impute_na(data, variable):\n",
    "\n",
    "    df= data.copy()\n",
    "    df[variable + '_random'] = df[variable]\n",
    "    \n",
    "    # generate random samples\n",
    "    samples = df[variable].dropna().sample(df[variable].isnull().sum(), random_state=0)\n",
    "    \n",
    "    # get the index of the missing observations\n",
    "    samples.index = df[df[variable].isnull()].index\n",
    "    \n",
    "    # set the missing values with the samples\n",
    "    df.loc[df[variable].isnull(), variable + '_random'] = samples\n",
    "    \n",
    "    return df[variable + '_random']"
   ]
  },
  {
   "cell_type": "code",
   "execution_count": 118,
   "id": "0f137378",
   "metadata": {},
   "outputs": [],
   "source": [
    "# replace na in both the train and test sets\n",
    "X_train['age'] = impute_na(X_train, 'age')\n",
    "X_test['age'] = impute_na(X_test, 'age')\n",
    "\n",
    "X_train['fare'] = impute_na(X_train, 'fare')\n",
    "X_test['fare'] = impute_na(X_test, 'fare')"
   ]
  },
  {
   "cell_type": "code",
   "execution_count": 69,
   "id": "599d3034",
   "metadata": {},
   "outputs": [
    {
     "data": {
      "text/html": [
       "<div>\n",
       "<style scoped>\n",
       "    .dataframe tbody tr th:only-of-type {\n",
       "        vertical-align: middle;\n",
       "    }\n",
       "\n",
       "    .dataframe tbody tr th {\n",
       "        vertical-align: top;\n",
       "    }\n",
       "\n",
       "    .dataframe thead th {\n",
       "        text-align: right;\n",
       "    }\n",
       "</style>\n",
       "<table border=\"1\" class=\"dataframe\">\n",
       "  <thead>\n",
       "    <tr style=\"text-align: right;\">\n",
       "      <th></th>\n",
       "      <th>age</th>\n",
       "      <th>fare</th>\n",
       "    </tr>\n",
       "  </thead>\n",
       "  <tbody>\n",
       "    <tr>\n",
       "      <th>501</th>\n",
       "      <td>13.0</td>\n",
       "      <td>19.5000</td>\n",
       "    </tr>\n",
       "    <tr>\n",
       "      <th>588</th>\n",
       "      <td>4.0</td>\n",
       "      <td>23.0000</td>\n",
       "    </tr>\n",
       "    <tr>\n",
       "      <th>402</th>\n",
       "      <td>30.0</td>\n",
       "      <td>13.8583</td>\n",
       "    </tr>\n",
       "    <tr>\n",
       "      <th>1193</th>\n",
       "      <td>40.5</td>\n",
       "      <td>7.7250</td>\n",
       "    </tr>\n",
       "    <tr>\n",
       "      <th>686</th>\n",
       "      <td>22.0</td>\n",
       "      <td>7.7250</td>\n",
       "    </tr>\n",
       "  </tbody>\n",
       "</table>\n",
       "</div>"
      ],
      "text/plain": [
       "       age     fare\n",
       "501   13.0  19.5000\n",
       "588    4.0  23.0000\n",
       "402   30.0  13.8583\n",
       "1193  40.5   7.7250\n",
       "686   22.0   7.7250"
      ]
     },
     "execution_count": 69,
     "metadata": {},
     "output_type": "execute_result"
    }
   ],
   "source": [
    "X_train.head()"
   ]
  },
  {
   "cell_type": "code",
   "execution_count": 109,
   "id": "6d5108b5",
   "metadata": {},
   "outputs": [
    {
     "data": {
      "text/plain": [
       "DecisionTreeDiscretiser(cv=10,\n",
       "                        param_grid={'max_depth': [1, 2, 3],\n",
       "                                    'min_samples_leaf': [10, 4]},\n",
       "                        regression=False, scoring='accuracy',\n",
       "                        variables=['age', 'fare'])"
      ]
     },
     "execution_count": 109,
     "metadata": {},
     "output_type": "execute_result"
    }
   ],
   "source": [
    "# set up the decision tree discretiser indicating:\n",
    "# cross-validation number (cv)\n",
    "# how to evaluate model performance (scoring)\n",
    "# the variables we want to discretise (variables)\n",
    "# whether it is a target for regression or classification\n",
    "# and the grid with the parameters we want to test\n",
    "\n",
    "treeDisc = DecisionTreeDiscretiser(cv=10, scoring='accuracy',\n",
    "                                   variables=['age', 'fare'],\n",
    "                                   regression=False,\n",
    "                                   param_grid={'max_depth': [1, 2, 3],\n",
    "                                              'min_samples_leaf':[10,4]})\n",
    "\n",
    "treeDisc.fit(X_train, y_train)"
   ]
  },
  {
   "cell_type": "code",
   "execution_count": 110,
   "id": "053c18bf",
   "metadata": {},
   "outputs": [
    {
     "data": {
      "text/plain": [
       "{'age': GridSearchCV(cv=10, estimator=DecisionTreeClassifier(),\n",
       "              param_grid={'max_depth': [1, 2, 3], 'min_samples_leaf': [10, 4]},\n",
       "              scoring='accuracy'),\n",
       " 'fare': GridSearchCV(cv=10, estimator=DecisionTreeClassifier(),\n",
       "              param_grid={'max_depth': [1, 2, 3], 'min_samples_leaf': [10, 4]},\n",
       "              scoring='accuracy')}"
      ]
     },
     "execution_count": 110,
     "metadata": {},
     "output_type": "execute_result"
    }
   ],
   "source": [
    "treeDisc.binner_dict_"
   ]
  },
  {
   "cell_type": "code",
   "execution_count": 111,
   "id": "51e16499",
   "metadata": {},
   "outputs": [
    {
     "data": {
      "text/plain": [
       "{'max_depth': 3, 'min_samples_leaf': 10}"
      ]
     },
     "execution_count": 111,
     "metadata": {},
     "output_type": "execute_result"
    }
   ],
   "source": [
    "treeDisc.binner_dict_['age'].best_params_"
   ]
  },
  {
   "cell_type": "code",
   "execution_count": 113,
   "id": "9053c386",
   "metadata": {},
   "outputs": [
    {
     "data": {
      "text/plain": [
       "0.6200873362445415"
      ]
     },
     "execution_count": 113,
     "metadata": {},
     "output_type": "execute_result"
    }
   ],
   "source": [
    "treeDisc.scores_dict_['age']"
   ]
  },
  {
   "cell_type": "code",
   "execution_count": 112,
   "id": "1291f204",
   "metadata": {},
   "outputs": [
    {
     "data": {
      "text/plain": [
       "{'max_depth': 3, 'min_samples_leaf': 10}"
      ]
     },
     "execution_count": 112,
     "metadata": {},
     "output_type": "execute_result"
    }
   ],
   "source": [
    "treeDisc.binner_dict_['fare'].best_params_"
   ]
  },
  {
   "cell_type": "code",
   "execution_count": 114,
   "id": "0e6d01d6",
   "metadata": {},
   "outputs": [
    {
     "data": {
      "text/plain": [
       "0.6888646288209607"
      ]
     },
     "execution_count": 114,
     "metadata": {},
     "output_type": "execute_result"
    }
   ],
   "source": [
    "treeDisc.scores_dict_['fare']"
   ]
  },
  {
   "cell_type": "markdown",
   "id": "32c2e595",
   "metadata": {},
   "source": [
    "By comparing the accuracy of the decision trees for age and fare, we can derive that fare is a better indicator of the outcome survived."
   ]
  },
  {
   "cell_type": "code",
   "execution_count": 119,
   "id": "95280f56",
   "metadata": {},
   "outputs": [],
   "source": [
    "# transform the data\n",
    "\n",
    "train_t = treeDisc.transform(X_train)\n",
    "test_t = treeDisc.transform(X_test)"
   ]
  },
  {
   "cell_type": "code",
   "execution_count": 120,
   "id": "fb7f73d3",
   "metadata": {},
   "outputs": [
    {
     "data": {
      "text/plain": [
       "array([0.61111111, 0.50909091, 0.39849624, 0.31481481, 0.21428571,\n",
       "       0.29411765, 0.09090909])"
      ]
     },
     "execution_count": 120,
     "metadata": {},
     "output_type": "execute_result"
    }
   ],
   "source": [
    "# inspect how many bins\n",
    "train_t['age'].unique()"
   ]
  },
  {
   "cell_type": "code",
   "execution_count": 122,
   "id": "98d86e0a",
   "metadata": {},
   "outputs": [
    {
     "data": {
      "image/png": "[encoded data removed]",
      "text/plain": [
       "<Figure size 432x288 with 1 Axes>"
      ]
     },
     "metadata": {
      "needs_background": "light"
     },
     "output_type": "display_data"
    }
   ],
   "source": [
    "# monotonic relationship with target\n",
    "\n",
    "pd.concat([train_t, y_train], axis = 1).groupby('age')['survived'].mean().plot()\n",
    "plt.title('Monotonic relationship between discretised Age and target')\n",
    "plt.ylabel('Survived');"
   ]
  },
  {
   "cell_type": "code",
   "execution_count": 123,
   "id": "6c2c0996",
   "metadata": {},
   "outputs": [
    {
     "data": {
      "text/plain": [
       "Text(0, 0.5, 'Survived')"
      ]
     },
     "execution_count": 123,
     "metadata": {},
     "output_type": "execute_result"
    },
    {
     "data": {
      "image/png": "[encoded data removed]",
      "text/plain": [
       "<Figure size 432x288 with 1 Axes>"
      ]
     },
     "metadata": {
      "needs_background": "light"
     },
     "output_type": "display_data"
    }
   ],
   "source": [
    "# monotonic relationship with target: test set\n",
    "\n",
    "pd.concat([test_t, y_test], axis=1).groupby(['age'])['survived'].mean().plot()\n",
    "plt.title('Monotonic relationship between discretised Age and target')\n",
    "plt.ylabel('Survived')"
   ]
  },
  {
   "cell_type": "markdown",
   "id": "ac409a39",
   "metadata": {},
   "source": [
    "The monotonic relationship between bins and target is not amazing. I have to say that I needed to play quite a bit with the parameters of the tree to find the optimal tree, to keep the monotonic relationship to some degree. But, it is the trade off, like from anything else in life :)"
   ]
  },
  {
   "cell_type": "code",
   "execution_count": 124,
   "id": "eaf1223a",
   "metadata": {},
   "outputs": [
    {
     "data": {
      "text/plain": [
       "Text(0, 0.5, 'Survived')"
      ]
     },
     "execution_count": 124,
     "metadata": {},
     "output_type": "execute_result"
    },
    {
     "data": {
      "image/png": "[encoded data removed]",
      "text/plain": [
       "<Figure size 432x288 with 1 Axes>"
      ]
     },
     "metadata": {
      "needs_background": "light"
     },
     "output_type": "display_data"
    }
   ],
   "source": [
    "# let's explore the monotonic relationship for fare\n",
    "pd.concat([train_t, y_train], axis=1).groupby(['fare'])['survived'].mean().plot()\n",
    "plt.title('Monotonic relationship between discretised Age and target')\n",
    "plt.ylabel('Survived')"
   ]
  },
  {
   "cell_type": "code",
   "execution_count": 125,
   "id": "6a2d66c0",
   "metadata": {},
   "outputs": [
    {
     "data": {
      "text/plain": [
       "Text(0, 0.5, 'Survived')"
      ]
     },
     "execution_count": 125,
     "metadata": {},
     "output_type": "execute_result"
    },
    {
     "data": {
      "image/png": "[encoded data removed]",
      "text/plain": [
       "<Figure size 432x288 with 1 Axes>"
      ]
     },
     "metadata": {
      "needs_background": "light"
     },
     "output_type": "display_data"
    }
   ],
   "source": [
    "# monotonic relationship with target: test set\n",
    "\n",
    "pd.concat([test_t, y_test], axis=1).groupby(['fare'])['survived'].mean().plot()\n",
    "plt.title('Monotonic relationship between discretised Age and target')\n",
    "plt.ylabel('Survived')"
   ]
  },
  {
   "cell_type": "markdown",
   "id": "82175439",
   "metadata": {},
   "source": [
    "For fare, the monotonic relationship was preserved, almost entirely, except at the edges, which suggests that the tree could be overfitting to the train set."
   ]
  },
  {
   "cell_type": "code",
   "execution_count": 126,
   "id": "0b66b041",
   "metadata": {},
   "outputs": [
    {
     "data": {
      "text/plain": [
       "Text(0, 0.5, 'Number of observations per bin')"
      ]
     },
     "execution_count": 126,
     "metadata": {},
     "output_type": "execute_result"
    },
    {
     "data": {
      "image/png": "[encoded data removed]",
      "text/plain": [
       "<Figure size 432x288 with 1 Axes>"
      ]
     },
     "metadata": {
      "needs_background": "light"
     },
     "output_type": "display_data"
    }
   ],
   "source": [
    "# let's explore how many observations we have per bin\n",
    "\n",
    "t1 = train_t.groupby(['age'])['age'].count() / len(train_t)\n",
    "t2 = test_t.groupby(['age'])['age'].count() / len(test_t)\n",
    "\n",
    "tmp = pd.concat([t1, t2], axis=1)\n",
    "tmp.columns = ['train', 'test']\n",
    "tmp.plot.bar()\n",
    "plt.xticks(rotation=45)\n",
    "plt.ylabel('Number of observations per bin')"
   ]
  },
  {
   "cell_type": "markdown",
   "id": "c29799e0",
   "metadata": {},
   "source": [
    "Most of the observations are in the middle bucket, which indicates that this variable is not very predictive. "
   ]
  },
  {
   "cell_type": "code",
   "execution_count": 127,
   "id": "40571e41",
   "metadata": {},
   "outputs": [
    {
     "data": {
      "text/plain": [
       "Text(0, 0.5, 'Number of observations per bin')"
      ]
     },
     "execution_count": 127,
     "metadata": {},
     "output_type": "execute_result"
    },
    {
     "data": {
      "image/png": "[encoded data removed]",
      "text/plain": [
       "<Figure size 432x288 with 1 Axes>"
      ]
     },
     "metadata": {
      "needs_background": "light"
     },
     "output_type": "display_data"
    }
   ],
   "source": [
    "# let's explore how many observations we have per bin\n",
    "\n",
    "t1 = train_t.groupby(['fare'])['fare'].count() / len(train_t)\n",
    "t2 = test_t.groupby(['fare'])['fare'].count() / len(test_t)\n",
    "\n",
    "tmp = pd.concat([t1, t2], axis=1)\n",
    "tmp.columns = ['train', 'test']\n",
    "tmp.plot.bar()\n",
    "plt.xticks(rotation=45)\n",
    "plt.ylabel('Number of observations per bin')"
   ]
  },
  {
   "cell_type": "markdown",
   "id": "33d79537",
   "metadata": {},
   "source": [
    "For fare, the tree sorted the values in more buckets, therefore creating a better value spread (remember that fare was quite skewed)."
   ]
  },
  {
   "cell_type": "code",
   "execution_count": null,
   "id": "d3e011b9",
   "metadata": {},
   "outputs": [],
   "source": []
  }
 ],
 "metadata": {
  "kernelspec": {
   "display_name": "Python 3 (ipykernel)",
   "language": "python",
   "name": "python3"
  },
  "language_info": {
   "codemirror_mode": {
    "name": "ipython",
    "version": 3
   },
   "file_extension": ".py",
   "mimetype": "text/x-python",
   "name": "python",
   "nbconvert_exporter": "python",
   "pygments_lexer": "ipython3",
   "version": "3.9.5"
  }
 },
 "nbformat": 4,
 "nbformat_minor": 5
}
