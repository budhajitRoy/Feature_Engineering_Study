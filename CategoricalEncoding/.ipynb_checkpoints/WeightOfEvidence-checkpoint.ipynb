{
 "cells": [
  {
   "cell_type": "markdown",
   "id": "644c1080",
   "metadata": {},
   "source": [
    "## Mean Encoding or Target Encoding\n",
    "\n",
    "Mean encoding implies replacing the category by the average target value for that category. For example, if we have the variable city, with categories London, Manchester and Bristol, and we want to predict the default rate, if the default rate for London is 30% we replace London by 0.3, if the default rate for Manchester is 20% we replace Manchester by 0.2 and so on.\n",
    "\n",
    "\n",
    "## In this demo:\n",
    "\n",
    "We will see how to perform one hot encoding with:\n",
    "- pandas\n",
    "- Feature-Engine\n",
    "\n",
    "And the advantages and limitations of each implementation using the Titanic dataset."
   ]
  },
  {
   "cell_type": "code",
   "execution_count": 1,
   "id": "62edb32f",
   "metadata": {},
   "outputs": [],
   "source": [
    "# import libraries\n",
    "\n",
    "import numpy as np\n",
    "import pandas as pd\n",
    "\n",
    "import matplotlib.pyplot as plt\n",
    "\n",
    "from sklearn.model_selection import train_test_split\n",
    "\n",
    "from feature_engine.encoding import MeanEncoder"
   ]
  },
  {
   "cell_type": "code",
   "execution_count": 2,
   "id": "9fb4f4ce",
   "metadata": {},
   "outputs": [
    {
     "data": {
      "text/html": [
       "<div>\n",
       "<style scoped>\n",
       "    .dataframe tbody tr th:only-of-type {\n",
       "        vertical-align: middle;\n",
       "    }\n",
       "\n",
       "    .dataframe tbody tr th {\n",
       "        vertical-align: top;\n",
       "    }\n",
       "\n",
       "    .dataframe thead th {\n",
       "        text-align: right;\n",
       "    }\n",
       "</style>\n",
       "<table border=\"1\" class=\"dataframe\">\n",
       "  <thead>\n",
       "    <tr style=\"text-align: right;\">\n",
       "      <th></th>\n",
       "      <th>survived</th>\n",
       "      <th>sex</th>\n",
       "      <th>cabin</th>\n",
       "      <th>embarked</th>\n",
       "    </tr>\n",
       "  </thead>\n",
       "  <tbody>\n",
       "    <tr>\n",
       "      <th>0</th>\n",
       "      <td>1</td>\n",
       "      <td>female</td>\n",
       "      <td>B5</td>\n",
       "      <td>S</td>\n",
       "    </tr>\n",
       "    <tr>\n",
       "      <th>1</th>\n",
       "      <td>1</td>\n",
       "      <td>male</td>\n",
       "      <td>C22</td>\n",
       "      <td>S</td>\n",
       "    </tr>\n",
       "    <tr>\n",
       "      <th>2</th>\n",
       "      <td>0</td>\n",
       "      <td>female</td>\n",
       "      <td>C22</td>\n",
       "      <td>S</td>\n",
       "    </tr>\n",
       "    <tr>\n",
       "      <th>3</th>\n",
       "      <td>0</td>\n",
       "      <td>male</td>\n",
       "      <td>C22</td>\n",
       "      <td>S</td>\n",
       "    </tr>\n",
       "    <tr>\n",
       "      <th>4</th>\n",
       "      <td>0</td>\n",
       "      <td>female</td>\n",
       "      <td>C22</td>\n",
       "      <td>S</td>\n",
       "    </tr>\n",
       "  </tbody>\n",
       "</table>\n",
       "</div>"
      ],
      "text/plain": [
       "   survived     sex cabin embarked\n",
       "0         1  female    B5        S\n",
       "1         1    male   C22        S\n",
       "2         0  female   C22        S\n",
       "3         0    male   C22        S\n",
       "4         0  female   C22        S"
      ]
     },
     "execution_count": 2,
     "metadata": {},
     "output_type": "execute_result"
    }
   ],
   "source": [
    "# load data\n",
    "\n",
    "cols = ['cabin', 'sex', 'embarked', 'survived']\n",
    "\n",
    "data = pd.read_csv('..\\\\titanic.csv', usecols=cols)\n",
    "data.head()"
   ]
  },
  {
   "cell_type": "code",
   "execution_count": 3,
   "id": "993d4f43",
   "metadata": {},
   "outputs": [
    {
     "name": "stdout",
     "output_type": "stream",
     "text": [
      "<class 'pandas.core.frame.DataFrame'>\n",
      "RangeIndex: 1309 entries, 0 to 1308\n",
      "Data columns (total 4 columns):\n",
      " #   Column    Non-Null Count  Dtype \n",
      "---  ------    --------------  ----- \n",
      " 0   survived  1309 non-null   int64 \n",
      " 1   sex       1309 non-null   object\n",
      " 2   cabin     295 non-null    object\n",
      " 3   embarked  1307 non-null   object\n",
      "dtypes: int64(1), object(3)\n",
      "memory usage: 41.0+ KB\n"
     ]
    }
   ],
   "source": [
    "data.info()"
   ]
  },
  {
   "cell_type": "code",
   "execution_count": 5,
   "id": "8a5d6110",
   "metadata": {},
   "outputs": [],
   "source": [
    "# replace all na's with Missing for embarked variable\n",
    "data['embarked'].fillna('Missing', inplace = True)"
   ]
  },
  {
   "cell_type": "code",
   "execution_count": 8,
   "id": "5bc77929",
   "metadata": {},
   "outputs": [],
   "source": [
    "# replace cabin data with the first letter\n",
    "data['cabin'] = data['cabin'].astype(str).str[0]"
   ]
  },
  {
   "cell_type": "code",
   "execution_count": 9,
   "id": "9dcb4dfd",
   "metadata": {},
   "outputs": [
    {
     "name": "stdout",
     "output_type": "stream",
     "text": [
      "Number of labels for cabin : 9\n",
      "Number of labels for sex : 2\n",
      "Number of labels for embarked : 4\n",
      "Number of labels for survived : 2\n"
     ]
    }
   ],
   "source": [
    "# check cardinality for each variable\n",
    "\n",
    "for col in cols:\n",
    "    print('Number of labels for {} : {}'.format(col, data[col].nunique()))"
   ]
  },
  {
   "cell_type": "code",
   "execution_count": 10,
   "id": "7c95f58e",
   "metadata": {},
   "outputs": [
    {
     "data": {
      "text/plain": [
       "array(['B', 'C', 'E', 'D', 'A', 'n', 'T', 'F', 'G'], dtype=object)"
      ]
     },
     "execution_count": 10,
     "metadata": {},
     "output_type": "execute_result"
    }
   ],
   "source": [
    "# let's explore the unique categories\n",
    "data['cabin'].unique()"
   ]
  },
  {
   "cell_type": "code",
   "execution_count": 11,
   "id": "b0ab60bb",
   "metadata": {},
   "outputs": [
    {
     "data": {
      "text/plain": [
       "array(['female', 'male'], dtype=object)"
      ]
     },
     "execution_count": 11,
     "metadata": {},
     "output_type": "execute_result"
    }
   ],
   "source": [
    "# let's explore the unique categories\n",
    "data['sex'].unique()"
   ]
  },
  {
   "cell_type": "code",
   "execution_count": 12,
   "id": "feb26c76",
   "metadata": {},
   "outputs": [
    {
     "data": {
      "text/plain": [
       "array(['S', 'C', 'Missing', 'Q'], dtype=object)"
      ]
     },
     "execution_count": 12,
     "metadata": {},
     "output_type": "execute_result"
    }
   ],
   "source": [
    "# let's explore the unique categories\n",
    "data['embarked'].unique()"
   ]
  },
  {
   "cell_type": "code",
   "execution_count": 15,
   "id": "612e808a",
   "metadata": {},
   "outputs": [
    {
     "data": {
      "text/plain": [
       "((916, 4), (393, 4))"
      ]
     },
     "execution_count": 15,
     "metadata": {},
     "output_type": "execute_result"
    }
   ],
   "source": [
    "# split the data\n",
    "\n",
    "X_train, X_test, y_train, y_test = train_test_split(data[cols],\n",
    "                                                   data['survived'],\n",
    "                                                   test_size=0.3,\n",
    "                                                   random_state=0)\n",
    "\n",
    "X_train.shape, X_test.shape"
   ]
  },
  {
   "cell_type": "markdown",
   "id": "1120a3bb",
   "metadata": {},
   "source": [
    "### Explore original relationship between categorical variables and target"
   ]
  },
  {
   "cell_type": "code",
   "execution_count": 18,
   "id": "679f6e40",
   "metadata": {},
   "outputs": [
    {
     "data": {
      "image/png": "[encoded data removed]",
      "text/plain": [
       "<Figure size 432x288 with 1 Axes>"
      ]
     },
     "metadata": {
      "needs_background": "light"
     },
     "output_type": "display_data"
    },
    {
     "data": {
      "image/png": "[encoded data removed]",
      "text/plain": [
       "<Figure size 432x288 with 1 Axes>"
      ]
     },
     "metadata": {
      "needs_background": "light"
     },
     "output_type": "display_data"
    },
    {
     "data": {
      "image/png": "[encoded data removed]",
      "text/plain": [
       "<Figure size 432x288 with 1 Axes>"
      ]
     },
     "metadata": {
      "needs_background": "light"
     },
     "output_type": "display_data"
    }
   ],
   "source": [
    "for var in ['cabin', 'sex', 'embarked']:\n",
    "\n",
    "    X_train.groupby([var])['survived'].mean().plot()\n",
    "    plt.title('Relatioship between {} and Survived'.format(var))\n",
    "    plt.show();"
   ]
  },
  {
   "cell_type": "markdown",
   "id": "aef8a880",
   "metadata": {},
   "source": [
    "You can see that the relationship between the target and the categories of the categorical variables goes up and down, depending on the category.\n",
    "\n",
    "\n",
    "## Mean encoding with pandas\n",
    "\n",
    "\n",
    "### Advantages\n",
    "\n",
    "- quick\n",
    "- returns pandas dataframe\n",
    "\n",
    "### Limitations of pandas:\n",
    "\n",
    "- it does not preserve information from train data to propagate to test data\n",
    "\n",
    "We need to store the encoding maps separately if planing to use them in production."
   ]
  },
  {
   "cell_type": "code",
   "execution_count": 20,
   "id": "24379b95",
   "metadata": {},
   "outputs": [
    {
     "data": {
      "text/plain": [
       "cabin\n",
       "A    0.529412\n",
       "B    0.761905\n",
       "C    0.563380\n",
       "D    0.718750\n",
       "E    0.718750\n",
       "F    0.666667\n",
       "G    0.500000\n",
       "T    0.000000\n",
       "n    0.304843\n",
       "Name: survived, dtype: float64"
      ]
     },
     "execution_count": 20,
     "metadata": {},
     "output_type": "execute_result"
    }
   ],
   "source": [
    "# lets get the mean values of the target variables for each label of cabin\n",
    "X_train.groupby(['cabin'])['survived'].mean()"
   ]
  },
  {
   "cell_type": "code",
   "execution_count": 22,
   "id": "328f75f4",
   "metadata": {},
   "outputs": [
    {
     "data": {
      "text/plain": [
       "{'A': 0.5294117647058824,\n",
       " 'B': 0.7619047619047619,\n",
       " 'C': 0.5633802816901409,\n",
       " 'D': 0.71875,\n",
       " 'E': 0.71875,\n",
       " 'F': 0.6666666666666666,\n",
       " 'G': 0.5,\n",
       " 'T': 0.0,\n",
       " 'n': 0.30484330484330485}"
      ]
     },
     "execution_count": 22,
     "metadata": {},
     "output_type": "execute_result"
    }
   ],
   "source": [
    "# lets convert it into a dictionary for mapping\n",
    "var_mapping = X_train.groupby(['cabin'])['survived'].mean().to_dict()\n",
    "var_mapping"
   ]
  },
  {
   "cell_type": "code",
   "execution_count": 26,
   "id": "c4b71bd7",
   "metadata": {},
   "outputs": [
    {
     "data": {
      "text/plain": [
       "501     0.304843\n",
       "588     0.304843\n",
       "402     0.304843\n",
       "1193    0.304843\n",
       "686     0.304843\n",
       "971     0.304843\n",
       "117     0.718750\n",
       "540     0.304843\n",
       "294     0.563380\n",
       "261     0.718750\n",
       "Name: cabin, dtype: float64"
      ]
     },
     "execution_count": 26,
     "metadata": {},
     "output_type": "execute_result"
    }
   ],
   "source": [
    "# now we can mapped with the values of cabin\n",
    "# now we can mapped with the values of cabin\n",
    "X_train['cabin'] = X_train['cabin'].map(var_mapping)\n",
    "X_train['cabin'].head(10)"
   ]
  },
  {
   "cell_type": "code",
   "execution_count": 27,
   "id": "92e836af",
   "metadata": {},
   "outputs": [],
   "source": [
    "# do the same for X_test['cabin']\n",
    "X_test['cabin'] = X_test['cabin'].map(var_mapping)"
   ]
  },
  {
   "cell_type": "code",
   "execution_count": 28,
   "id": "91b3b0ef",
   "metadata": {},
   "outputs": [],
   "source": [
    "## write the functions to perform these functions\n",
    "\n",
    "def create_mappings(X_train, var, target):\n",
    "    var_mapping = X_train.groupby([var])[target].mean().to_dict()\n",
    "    return var_mapping\n",
    "\n",
    "\n",
    "# peform encoding\n",
    "def mean_encode(X_train, X_test, var, mapping):\n",
    "    X_train[var] = X_train[var].map(mapping)\n",
    "    X_test[var] = X_test[var].map(mapping)"
   ]
  },
  {
   "cell_type": "code",
   "execution_count": 29,
   "id": "d9fc3300",
   "metadata": {},
   "outputs": [],
   "source": [
    "# and now we run a loop over the remaining categorical variables\n",
    "\n",
    "for variable in ['sex', 'embarked']:\n",
    "    mappings = create_mappings(X_train, variable, 'survived')\n",
    "    mean_encode(X_train, X_test, variable, mappings)"
   ]
  },
  {
   "cell_type": "code",
   "execution_count": 30,
   "id": "b7ffab9f",
   "metadata": {},
   "outputs": [
    {
     "data": {
      "text/html": [
       "<div>\n",
       "<style scoped>\n",
       "    .dataframe tbody tr th:only-of-type {\n",
       "        vertical-align: middle;\n",
       "    }\n",
       "\n",
       "    .dataframe tbody tr th {\n",
       "        vertical-align: top;\n",
       "    }\n",
       "\n",
       "    .dataframe thead th {\n",
       "        text-align: right;\n",
       "    }\n",
       "</style>\n",
       "<table border=\"1\" class=\"dataframe\">\n",
       "  <thead>\n",
       "    <tr style=\"text-align: right;\">\n",
       "      <th></th>\n",
       "      <th>cabin</th>\n",
       "      <th>sex</th>\n",
       "      <th>embarked</th>\n",
       "      <th>survived</th>\n",
       "    </tr>\n",
       "  </thead>\n",
       "  <tbody>\n",
       "    <tr>\n",
       "      <th>501</th>\n",
       "      <td>0.304843</td>\n",
       "      <td>0.728358</td>\n",
       "      <td>0.338957</td>\n",
       "      <td>1</td>\n",
       "    </tr>\n",
       "    <tr>\n",
       "      <th>588</th>\n",
       "      <td>0.304843</td>\n",
       "      <td>0.728358</td>\n",
       "      <td>0.338957</td>\n",
       "      <td>1</td>\n",
       "    </tr>\n",
       "    <tr>\n",
       "      <th>402</th>\n",
       "      <td>0.304843</td>\n",
       "      <td>0.728358</td>\n",
       "      <td>0.553073</td>\n",
       "      <td>1</td>\n",
       "    </tr>\n",
       "    <tr>\n",
       "      <th>1193</th>\n",
       "      <td>0.304843</td>\n",
       "      <td>0.187608</td>\n",
       "      <td>0.373494</td>\n",
       "      <td>0</td>\n",
       "    </tr>\n",
       "    <tr>\n",
       "      <th>686</th>\n",
       "      <td>0.304843</td>\n",
       "      <td>0.728358</td>\n",
       "      <td>0.373494</td>\n",
       "      <td>1</td>\n",
       "    </tr>\n",
       "  </tbody>\n",
       "</table>\n",
       "</div>"
      ],
      "text/plain": [
       "         cabin       sex  embarked  survived\n",
       "501   0.304843  0.728358  0.338957         1\n",
       "588   0.304843  0.728358  0.338957         1\n",
       "402   0.304843  0.728358  0.553073         1\n",
       "1193  0.304843  0.187608  0.373494         0\n",
       "686   0.304843  0.728358  0.373494         1"
      ]
     },
     "execution_count": 30,
     "metadata": {},
     "output_type": "execute_result"
    }
   ],
   "source": [
    "# check the results\n",
    "X_train.head()"
   ]
  },
  {
   "cell_type": "code",
   "execution_count": 31,
   "id": "b50c01ce",
   "metadata": {},
   "outputs": [
    {
     "data": {
      "image/png": "[encoded data removed]",
      "text/plain": [
       "<Figure size 432x288 with 1 Axes>"
      ]
     },
     "metadata": {
      "needs_background": "light"
     },
     "output_type": "display_data"
    },
    {
     "data": {
      "image/png": "[encoded data removed]",
      "text/plain": [
       "<Figure size 432x288 with 1 Axes>"
      ]
     },
     "metadata": {
      "needs_background": "light"
     },
     "output_type": "display_data"
    },
    {
     "data": {
      "image/png": "[encoded data removed]",
      "text/plain": [
       "<Figure size 432x288 with 1 Axes>"
      ]
     },
     "metadata": {
      "needs_background": "light"
     },
     "output_type": "display_data"
    }
   ],
   "source": [
    "# now lets inspect the newly created monotonic relationship\n",
    "\n",
    "for var in ['cabin', 'sex', 'embarked']:\n",
    "\n",
    "    X_train.groupby([var])['survived'].mean().plot()\n",
    "    plt.title('Relatioship between {} and Survived'.format(var))\n",
    "    plt.show();"
   ]
  },
  {
   "cell_type": "markdown",
   "id": "964ea3e2",
   "metadata": {},
   "source": [
    "Mean Encoding creates linear relationships between the mean target and the categories.\n",
    "\n",
    "### Note\n",
    "\n",
    "Replacing categorical labels with this code and method will generate missing values for categories present in the test set that were not seen in the training set. Therefore it is extremely important to handle rare labels before-hand. I will explain how to do this, in a later notebook."
   ]
  },
  {
   "cell_type": "code",
   "execution_count": 32,
   "id": "3654d07c",
   "metadata": {},
   "outputs": [
    {
     "data": {
      "image/png": "[encoded data removed]",
      "text/plain": [
       "<Figure size 432x288 with 1 Axes>"
      ]
     },
     "metadata": {
      "needs_background": "light"
     },
     "output_type": "display_data"
    },
    {
     "data": {
      "image/png": "[encoded data removed]",
      "text/plain": [
       "<Figure size 432x288 with 1 Axes>"
      ]
     },
     "metadata": {
      "needs_background": "light"
     },
     "output_type": "display_data"
    },
    {
     "data": {
      "image/png": "[encoded data removed]",
      "text/plain": [
       "<Figure size 432x288 with 1 Axes>"
      ]
     },
     "metadata": {
      "needs_background": "light"
     },
     "output_type": "display_data"
    }
   ],
   "source": [
    "# now lets inspect the newly created monotonic relationship - test data\n",
    "\n",
    "for var in ['cabin', 'sex', 'embarked']:\n",
    "\n",
    "    X_test.groupby([var])['survived'].mean().plot()\n",
    "    plt.title('Relatioship between {} and Survived'.format(var))\n",
    "    plt.show();"
   ]
  },
  {
   "cell_type": "markdown",
   "id": "02675e0a",
   "metadata": {},
   "source": [
    "- Note, here for test data we will not see a straight line linear relationship for all variables \n",
    "- This is because the mean encoding was performed based on the training dataset"
   ]
  },
  {
   "cell_type": "markdown",
   "id": "a96e620f",
   "metadata": {},
   "source": [
    "## Mean Encoding with feature-engine"
   ]
  },
  {
   "cell_type": "code",
   "execution_count": 33,
   "id": "4ce15dba",
   "metadata": {},
   "outputs": [
    {
     "data": {
      "text/plain": [
       "((916, 4), (393, 4))"
      ]
     },
     "execution_count": 33,
     "metadata": {},
     "output_type": "execute_result"
    }
   ],
   "source": [
    "# split the data\n",
    "\n",
    "X_train, X_test, y_train, y_test = train_test_split(data[cols],\n",
    "                                                   data['survived'],\n",
    "                                                   test_size=0.3,\n",
    "                                                   random_state=0)\n",
    "\n",
    "X_train.shape, X_test.shape"
   ]
  },
  {
   "cell_type": "code",
   "execution_count": 34,
   "id": "19cf2c94",
   "metadata": {},
   "outputs": [],
   "source": [
    "# create feature-engine mean encoder object\n",
    "\n",
    "mean_encoder = MeanEncoder(variables= ['cabin', 'sex', 'embarked'])"
   ]
  },
  {
   "cell_type": "code",
   "execution_count": 35,
   "id": "a02c5677",
   "metadata": {},
   "outputs": [
    {
     "data": {
      "text/plain": [
       "MeanEncoder(variables=['cabin', 'sex', 'embarked'])"
      ]
     },
     "execution_count": 35,
     "metadata": {},
     "output_type": "execute_result"
    }
   ],
   "source": [
    "# fitting the oie object\n",
    "mean_encoder.fit(X_train, y_train)"
   ]
  },
  {
   "cell_type": "code",
   "execution_count": 36,
   "id": "999a8371",
   "metadata": {},
   "outputs": [
    {
     "data": {
      "text/plain": [
       "{'cabin': {'A': 0.5294117647058824,\n",
       "  'B': 0.7619047619047619,\n",
       "  'C': 0.5633802816901409,\n",
       "  'D': 0.71875,\n",
       "  'E': 0.71875,\n",
       "  'F': 0.6666666666666666,\n",
       "  'G': 0.5,\n",
       "  'T': 0.0,\n",
       "  'n': 0.30484330484330485},\n",
       " 'sex': {'female': 0.7283582089552239, 'male': 0.18760757314974183},\n",
       " 'embarked': {'C': 0.553072625698324,\n",
       "  'Missing': 1.0,\n",
       "  'Q': 0.37349397590361444,\n",
       "  'S': 0.3389570552147239}}"
      ]
     },
     "execution_count": 36,
     "metadata": {},
     "output_type": "execute_result"
    }
   ],
   "source": [
    "# check the object properties\n",
    "mean_encoder.encoder_dict_"
   ]
  },
  {
   "cell_type": "code",
   "execution_count": 37,
   "id": "fcbcc4f6",
   "metadata": {},
   "outputs": [
    {
     "data": {
      "text/plain": [
       "['cabin', 'sex', 'embarked']"
      ]
     },
     "execution_count": 37,
     "metadata": {},
     "output_type": "execute_result"
    }
   ],
   "source": [
    "mean_encoder.variables"
   ]
  },
  {
   "cell_type": "code",
   "execution_count": 38,
   "id": "3f63837a",
   "metadata": {},
   "outputs": [
    {
     "data": {
      "text/html": [
       "<div>\n",
       "<style scoped>\n",
       "    .dataframe tbody tr th:only-of-type {\n",
       "        vertical-align: middle;\n",
       "    }\n",
       "\n",
       "    .dataframe tbody tr th {\n",
       "        vertical-align: top;\n",
       "    }\n",
       "\n",
       "    .dataframe thead th {\n",
       "        text-align: right;\n",
       "    }\n",
       "</style>\n",
       "<table border=\"1\" class=\"dataframe\">\n",
       "  <thead>\n",
       "    <tr style=\"text-align: right;\">\n",
       "      <th></th>\n",
       "      <th>cabin</th>\n",
       "      <th>sex</th>\n",
       "      <th>embarked</th>\n",
       "      <th>survived</th>\n",
       "    </tr>\n",
       "  </thead>\n",
       "  <tbody>\n",
       "    <tr>\n",
       "      <th>501</th>\n",
       "      <td>0.304843</td>\n",
       "      <td>0.728358</td>\n",
       "      <td>0.338957</td>\n",
       "      <td>1</td>\n",
       "    </tr>\n",
       "    <tr>\n",
       "      <th>588</th>\n",
       "      <td>0.304843</td>\n",
       "      <td>0.728358</td>\n",
       "      <td>0.338957</td>\n",
       "      <td>1</td>\n",
       "    </tr>\n",
       "    <tr>\n",
       "      <th>402</th>\n",
       "      <td>0.304843</td>\n",
       "      <td>0.728358</td>\n",
       "      <td>0.553073</td>\n",
       "      <td>1</td>\n",
       "    </tr>\n",
       "    <tr>\n",
       "      <th>1193</th>\n",
       "      <td>0.304843</td>\n",
       "      <td>0.187608</td>\n",
       "      <td>0.373494</td>\n",
       "      <td>0</td>\n",
       "    </tr>\n",
       "    <tr>\n",
       "      <th>686</th>\n",
       "      <td>0.304843</td>\n",
       "      <td>0.728358</td>\n",
       "      <td>0.373494</td>\n",
       "      <td>1</td>\n",
       "    </tr>\n",
       "  </tbody>\n",
       "</table>\n",
       "</div>"
      ],
      "text/plain": [
       "         cabin       sex  embarked  survived\n",
       "501   0.304843  0.728358  0.338957         1\n",
       "588   0.304843  0.728358  0.338957         1\n",
       "402   0.304843  0.728358  0.553073         1\n",
       "1193  0.304843  0.187608  0.373494         0\n",
       "686   0.304843  0.728358  0.373494         1"
      ]
     },
     "execution_count": 38,
     "metadata": {},
     "output_type": "execute_result"
    }
   ],
   "source": [
    "# now transformation\n",
    "\n",
    "X_train = mean_encoder.transform(X_train)\n",
    "X_test = mean_encoder.transform(X_test)\n",
    "\n",
    "# let's explore the result\n",
    "X_train.head()"
   ]
  },
  {
   "cell_type": "markdown",
   "id": "9053e399",
   "metadata": {},
   "source": [
    "**Note**\n",
    "\n",
    "If the argument variables is left to None, then the encoder will automatically identify all categorical variables.\n",
    "\n",
    "The encoder will not encode numerical variables. So if some of your numerical variables are in fact categories, you will need to re-cast them as object before using the encoder.\n",
    "\n",
    "Finally, if there is a label in the test set that was not present in the train set, the encoder will through and error, to alert you of this behaviour."
   ]
  },
  {
   "cell_type": "code",
   "execution_count": null,
   "id": "1a6920ba",
   "metadata": {},
   "outputs": [],
   "source": []
  }
 ],
 "metadata": {
  "kernelspec": {
   "display_name": "Python 3 (ipykernel)",
   "language": "python",
   "name": "python3"
  },
  "language_info": {
   "codemirror_mode": {
    "name": "ipython",
    "version": 3
   },
   "file_extension": ".py",
   "mimetype": "text/x-python",
   "name": "python",
   "nbconvert_exporter": "python",
   "pygments_lexer": "ipython3",
   "version": "3.9.5"
  }
 },
 "nbformat": 4,
 "nbformat_minor": 5
}
