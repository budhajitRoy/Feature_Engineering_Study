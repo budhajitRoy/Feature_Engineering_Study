{
 "cells": [
  {
   "cell_type": "markdown",
   "id": "9dd7bb8d",
   "metadata": {},
   "source": [
    "## Classification\n",
    "\n",
    "Here we will bring together various techniques for feature engineering to tackle a classification problem. This would give you an idea of the end-to-end pipeline to build machine learning algorithms for classification. \n",
    "\n",
    "I will:\n",
    "- build a gradient boosted tree\n",
    "- use feature-engine for the feature engineering steps\n",
    "- set up an entire engineering and prediction pipeline using a Scikit-learn Pipeline\n",
    "\n",
    "============================================================================\n",
    "\n",
    "## In this demo:\n",
    "\n",
    "We will use the titanic dataset"
   ]
  },
  {
   "cell_type": "code",
   "execution_count": 1,
   "id": "44cd47e0",
   "metadata": {},
   "outputs": [],
   "source": [
    "# import libraries\n",
    "\n",
    "import numpy as np\n",
    "import pandas as pd\n",
    "\n",
    "import matplotlib.pyplot as plt\n",
    "import seaborn as sns\n",
    "\n",
    "from sklearn.model_selection import train_test_split\n",
    "from sklearn.ensemble import GradientBoostingClassifier\n",
    "from sklearn.metrics import roc_auc_score\n",
    "from sklearn.pipeline import Pipeline\n",
    "\n",
    "from feature_engine import imputation as mdi\n",
    "from feature_engine import encoding as ce\n",
    "from feature_engine import discretisation as dsc"
   ]
  },
  {
   "cell_type": "code",
   "execution_count": 2,
   "id": "695b8ffa",
   "metadata": {},
   "outputs": [
    {
     "data": {
      "text/html": [
       "<div>\n",
       "<style scoped>\n",
       "    .dataframe tbody tr th:only-of-type {\n",
       "        vertical-align: middle;\n",
       "    }\n",
       "\n",
       "    .dataframe tbody tr th {\n",
       "        vertical-align: top;\n",
       "    }\n",
       "\n",
       "    .dataframe thead th {\n",
       "        text-align: right;\n",
       "    }\n",
       "</style>\n",
       "<table border=\"1\" class=\"dataframe\">\n",
       "  <thead>\n",
       "    <tr style=\"text-align: right;\">\n",
       "      <th></th>\n",
       "      <th>pclass</th>\n",
       "      <th>survived</th>\n",
       "      <th>sex</th>\n",
       "      <th>age</th>\n",
       "      <th>sibsp</th>\n",
       "      <th>parch</th>\n",
       "      <th>fare</th>\n",
       "      <th>cabin</th>\n",
       "      <th>embarked</th>\n",
       "    </tr>\n",
       "  </thead>\n",
       "  <tbody>\n",
       "    <tr>\n",
       "      <th>0</th>\n",
       "      <td>1</td>\n",
       "      <td>1</td>\n",
       "      <td>female</td>\n",
       "      <td>29.0000</td>\n",
       "      <td>0</td>\n",
       "      <td>0</td>\n",
       "      <td>211.3375</td>\n",
       "      <td>B5</td>\n",
       "      <td>S</td>\n",
       "    </tr>\n",
       "    <tr>\n",
       "      <th>1</th>\n",
       "      <td>1</td>\n",
       "      <td>1</td>\n",
       "      <td>male</td>\n",
       "      <td>0.9167</td>\n",
       "      <td>1</td>\n",
       "      <td>2</td>\n",
       "      <td>151.5500</td>\n",
       "      <td>C22</td>\n",
       "      <td>S</td>\n",
       "    </tr>\n",
       "    <tr>\n",
       "      <th>2</th>\n",
       "      <td>1</td>\n",
       "      <td>0</td>\n",
       "      <td>female</td>\n",
       "      <td>2.0000</td>\n",
       "      <td>1</td>\n",
       "      <td>2</td>\n",
       "      <td>151.5500</td>\n",
       "      <td>C22</td>\n",
       "      <td>S</td>\n",
       "    </tr>\n",
       "    <tr>\n",
       "      <th>3</th>\n",
       "      <td>1</td>\n",
       "      <td>0</td>\n",
       "      <td>male</td>\n",
       "      <td>30.0000</td>\n",
       "      <td>1</td>\n",
       "      <td>2</td>\n",
       "      <td>151.5500</td>\n",
       "      <td>C22</td>\n",
       "      <td>S</td>\n",
       "    </tr>\n",
       "    <tr>\n",
       "      <th>4</th>\n",
       "      <td>1</td>\n",
       "      <td>0</td>\n",
       "      <td>female</td>\n",
       "      <td>25.0000</td>\n",
       "      <td>1</td>\n",
       "      <td>2</td>\n",
       "      <td>151.5500</td>\n",
       "      <td>C22</td>\n",
       "      <td>S</td>\n",
       "    </tr>\n",
       "  </tbody>\n",
       "</table>\n",
       "</div>"
      ],
      "text/plain": [
       "   pclass  survived     sex      age  sibsp  parch      fare cabin embarked\n",
       "0       1         1  female  29.0000      0      0  211.3375    B5        S\n",
       "1       1         1    male   0.9167      1      2  151.5500   C22        S\n",
       "2       1         0  female   2.0000      1      2  151.5500   C22        S\n",
       "3       1         0    male  30.0000      1      2  151.5500   C22        S\n",
       "4       1         0  female  25.0000      1      2  151.5500   C22        S"
      ]
     },
     "execution_count": 2,
     "metadata": {},
     "output_type": "execute_result"
    }
   ],
   "source": [
    "# load data\n",
    "cols = [\n",
    "    'pclass', 'sex', 'age', 'sibsp', 'parch', 'fare', 'cabin',\n",
    "    'embarked', 'survived'\n",
    "]\n",
    "\n",
    "data = pd.read_csv('titanic.csv', usecols=cols)\n",
    "data.head()"
   ]
  },
  {
   "cell_type": "code",
   "execution_count": 4,
   "id": "8b9f9698",
   "metadata": {},
   "outputs": [
    {
     "name": "stdout",
     "output_type": "stream",
     "text": [
      "<class 'pandas.core.frame.DataFrame'>\n",
      "RangeIndex: 1309 entries, 0 to 1308\n",
      "Data columns (total 9 columns):\n",
      " #   Column    Non-Null Count  Dtype  \n",
      "---  ------    --------------  -----  \n",
      " 0   pclass    1309 non-null   int64  \n",
      " 1   survived  1309 non-null   int64  \n",
      " 2   sex       1309 non-null   object \n",
      " 3   age       1046 non-null   float64\n",
      " 4   sibsp     1309 non-null   int64  \n",
      " 5   parch     1309 non-null   int64  \n",
      " 6   fare      1308 non-null   float64\n",
      " 7   cabin     295 non-null    object \n",
      " 8   embarked  1307 non-null   object \n",
      "dtypes: float64(2), int64(4), object(3)\n",
      "memory usage: 92.2+ KB\n"
     ]
    }
   ],
   "source": [
    "data.info()"
   ]
  },
  {
   "cell_type": "markdown",
   "id": "2af87b50",
   "metadata": {},
   "source": [
    "### Types of variables\n",
    "\n",
    "Let's find out what types of variables there are in this dataset"
   ]
  },
  {
   "cell_type": "code",
   "execution_count": 5,
   "id": "630165d6",
   "metadata": {},
   "outputs": [
    {
     "data": {
      "text/plain": [
       "pclass        int64\n",
       "survived      int64\n",
       "sex          object\n",
       "age         float64\n",
       "sibsp         int64\n",
       "parch         int64\n",
       "fare        float64\n",
       "cabin        object\n",
       "embarked     object\n",
       "dtype: object"
      ]
     },
     "execution_count": 5,
     "metadata": {},
     "output_type": "execute_result"
    }
   ],
   "source": [
    "data.dtypes"
   ]
  },
  {
   "cell_type": "markdown",
   "id": "19718a34",
   "metadata": {},
   "source": [
    "- There are categorical and numerical variables"
   ]
  },
  {
   "cell_type": "code",
   "execution_count": 7,
   "id": "1560643e",
   "metadata": {},
   "outputs": [
    {
     "name": "stdout",
     "output_type": "stream",
     "text": [
      "pclass [1 2 3]\n",
      "survived [1 0]\n",
      "sex ['female' 'male']\n",
      "age [29.      0.9167  2.     30.     25.     48.     63.     39.     53.\n",
      " 71.     47.     18.     24.     26.     80.         nan 50.     32.\n",
      " 36.     37.    ]\n",
      "sibsp [0 1 2 3 4 5 8]\n",
      "parch [0 2 1 4 3 5 6 9]\n",
      "fare [211.3375 151.55    26.55    77.9583   0.      51.4792  49.5042 227.525\n",
      "  69.3     78.85    30.      25.925  247.5208  76.2917  75.2417  52.5542\n",
      " 221.7792  26.      91.0792 135.6333]\n",
      "cabin ['B5' 'C22' 'E12' 'D7' 'A36' 'C101' nan 'C62' 'B35' 'A23' 'B58' 'D15' 'C6'\n",
      " 'D35' 'C148' 'C97' 'B49' 'C99' 'C52' 'T']\n",
      "embarked ['S' 'C' nan 'Q']\n"
     ]
    }
   ],
   "source": [
    "# let's inspect the variable values\n",
    "\n",
    "for var in data.columns: \n",
    "    print(var, data[var].unique()[:20])"
   ]
  },
  {
   "cell_type": "markdown",
   "id": "685faee9",
   "metadata": {},
   "source": [
    "- There are continuous and discrete variables and also mixed variables."
   ]
  },
  {
   "cell_type": "code",
   "execution_count": 12,
   "id": "82f7df88",
   "metadata": {},
   "outputs": [],
   "source": [
    "# make list of variables  types\n",
    "\n",
    "# numerical: discrete vs continuous\n",
    "discrete = [var for var in data.columns if data[var].dtype!= 'O' and var!='survived' and data[var].nunique() < 10]\n",
    "continuous = [var for var in data.columns if data[var].dtype!= 'O' and var!='survived' and var not in discrete]\n",
    "\n",
    "# mixed\n",
    "mixed = ['cabin']\n",
    "\n",
    "# categorical\n",
    "categorical = [var for var in data.columns if data[var].dtype == 'O' and var!='survived' and var not in mixed]"
   ]
  },
  {
   "cell_type": "code",
   "execution_count": 13,
   "id": "bb0f747c",
   "metadata": {},
   "outputs": [
    {
     "name": "stdout",
     "output_type": "stream",
     "text": [
      "There are 3 discrete variables\n",
      "There are 2 continuous variables\n",
      "There are 2 categorical variables\n",
      "There are 1 mixed variables\n"
     ]
    }
   ],
   "source": [
    "print('There are {} discrete variables'.format(len(discrete)))\n",
    "print('There are {} continuous variables'.format(len(continuous)))\n",
    "print('There are {} categorical variables'.format(len(categorical)))\n",
    "print('There are {} mixed variables'.format(len(mixed)))"
   ]
  },
  {
   "cell_type": "code",
   "execution_count": 14,
   "id": "ac30edba",
   "metadata": {},
   "outputs": [
    {
     "data": {
      "text/plain": [
       "['pclass', 'sibsp', 'parch']"
      ]
     },
     "execution_count": 14,
     "metadata": {},
     "output_type": "execute_result"
    }
   ],
   "source": [
    "discrete"
   ]
  },
  {
   "cell_type": "code",
   "execution_count": 15,
   "id": "56713f1a",
   "metadata": {},
   "outputs": [
    {
     "data": {
      "text/plain": [
       "['age', 'fare']"
      ]
     },
     "execution_count": 15,
     "metadata": {},
     "output_type": "execute_result"
    }
   ],
   "source": [
    "continuous"
   ]
  },
  {
   "cell_type": "code",
   "execution_count": 16,
   "id": "9d81be53",
   "metadata": {},
   "outputs": [
    {
     "data": {
      "text/plain": [
       "['cabin']"
      ]
     },
     "execution_count": 16,
     "metadata": {},
     "output_type": "execute_result"
    }
   ],
   "source": [
    "mixed"
   ]
  },
  {
   "cell_type": "code",
   "execution_count": 17,
   "id": "23fe618d",
   "metadata": {},
   "outputs": [
    {
     "data": {
      "text/plain": [
       "['sex', 'embarked']"
      ]
     },
     "execution_count": 17,
     "metadata": {},
     "output_type": "execute_result"
    }
   ],
   "source": [
    "categorical"
   ]
  },
  {
   "cell_type": "markdown",
   "id": "49e74af9",
   "metadata": {},
   "source": [
    "### Variable characteristics"
   ]
  },
  {
   "cell_type": "code",
   "execution_count": 18,
   "id": "8f5a95d9",
   "metadata": {},
   "outputs": [
    {
     "data": {
      "text/plain": [
       "pclass      0.000000\n",
       "survived    0.000000\n",
       "sex         0.000000\n",
       "age         0.200917\n",
       "sibsp       0.000000\n",
       "parch       0.000000\n",
       "fare        0.000764\n",
       "cabin       0.774637\n",
       "embarked    0.001528\n",
       "dtype: float64"
      ]
     },
     "execution_count": 18,
     "metadata": {},
     "output_type": "execute_result"
    }
   ],
   "source": [
    "# missing data\n",
    "\n",
    "data.isnull().mean()"
   ]
  },
  {
   "cell_type": "markdown",
   "id": "8aa170ea",
   "metadata": {},
   "source": [
    "- We can see there are missing data in our variables"
   ]
  },
  {
   "cell_type": "code",
   "execution_count": 19,
   "id": "162aedc3",
   "metadata": {},
   "outputs": [
    {
     "data": {
      "text/plain": [
       "<AxesSubplot:>"
      ]
     },
     "execution_count": 19,
     "metadata": {},
     "output_type": "execute_result"
    },
    {
     "data": {
      "image/png": "[encoded data removed]",
      "text/plain": [
       "<Figure size 432x288 with 1 Axes>"
      ]
     },
     "metadata": {
      "needs_background": "light"
     },
     "output_type": "display_data"
    }
   ],
   "source": [
    "# outliers\n",
    "\n",
    "data[continuous].boxplot()"
   ]
  },
  {
   "cell_type": "code",
   "execution_count": 20,
   "id": "14d59691",
   "metadata": {},
   "outputs": [
    {
     "data": {
      "text/plain": [
       "<AxesSubplot:>"
      ]
     },
     "execution_count": 20,
     "metadata": {},
     "output_type": "execute_result"
    },
    {
     "data": {
      "image/png": "[encoded data removed]",
      "text/plain": [
       "<Figure size 432x288 with 1 Axes>"
      ]
     },
     "metadata": {
      "needs_background": "light"
     },
     "output_type": "display_data"
    }
   ],
   "source": [
    "# outliers in discrete\n",
    "data[discrete].boxplot()"
   ]
  },
  {
   "cell_type": "markdown",
   "id": "1b86123c",
   "metadata": {},
   "source": [
    "Some variables show outliers or unusual values"
   ]
  },
  {
   "cell_type": "code",
   "execution_count": 22,
   "id": "c86ff564",
   "metadata": {},
   "outputs": [
    {
     "data": {
      "text/plain": [
       "0    1002\n",
       "1     170\n",
       "2     113\n",
       "3       8\n",
       "4       6\n",
       "5       6\n",
       "6       2\n",
       "9       2\n",
       "Name: parch, dtype: int64"
      ]
     },
     "execution_count": 22,
     "metadata": {},
     "output_type": "execute_result"
    }
   ],
   "source": [
    "# values bigger than 3 are rare for parch\n",
    "\n",
    "data['parch'].value_counts()"
   ]
  },
  {
   "cell_type": "code",
   "execution_count": 24,
   "id": "5daa0357",
   "metadata": {},
   "outputs": [
    {
     "data": {
      "text/plain": [
       "0    891\n",
       "1    319\n",
       "2     42\n",
       "4     22\n",
       "3     20\n",
       "8      9\n",
       "5      6\n",
       "Name: sibsp, dtype: int64"
      ]
     },
     "execution_count": 24,
     "metadata": {},
     "output_type": "execute_result"
    }
   ],
   "source": [
    "# similar for sibsp also, values greater than 7 are rare\n",
    "data['sibsp'].value_counts()"
   ]
  },
  {
   "cell_type": "code",
   "execution_count": 25,
   "id": "6d2f63ae",
   "metadata": {},
   "outputs": [
    {
     "data": {
      "text/html": [
       "<div>\n",
       "<style scoped>\n",
       "    .dataframe tbody tr th:only-of-type {\n",
       "        vertical-align: middle;\n",
       "    }\n",
       "\n",
       "    .dataframe tbody tr th {\n",
       "        vertical-align: top;\n",
       "    }\n",
       "\n",
       "    .dataframe thead th {\n",
       "        text-align: right;\n",
       "    }\n",
       "</style>\n",
       "<table border=\"1\" class=\"dataframe\">\n",
       "  <thead>\n",
       "    <tr style=\"text-align: right;\">\n",
       "      <th></th>\n",
       "      <th>pclass</th>\n",
       "      <th>survived</th>\n",
       "      <th>age</th>\n",
       "      <th>sibsp</th>\n",
       "      <th>parch</th>\n",
       "      <th>fare</th>\n",
       "    </tr>\n",
       "  </thead>\n",
       "  <tbody>\n",
       "    <tr>\n",
       "      <th>count</th>\n",
       "      <td>1309.000000</td>\n",
       "      <td>1309.000000</td>\n",
       "      <td>1046.000000</td>\n",
       "      <td>1309.000000</td>\n",
       "      <td>1309.000000</td>\n",
       "      <td>1308.000000</td>\n",
       "    </tr>\n",
       "    <tr>\n",
       "      <th>mean</th>\n",
       "      <td>2.294882</td>\n",
       "      <td>0.381971</td>\n",
       "      <td>29.881135</td>\n",
       "      <td>0.498854</td>\n",
       "      <td>0.385027</td>\n",
       "      <td>33.295479</td>\n",
       "    </tr>\n",
       "    <tr>\n",
       "      <th>std</th>\n",
       "      <td>0.837836</td>\n",
       "      <td>0.486055</td>\n",
       "      <td>14.413500</td>\n",
       "      <td>1.041658</td>\n",
       "      <td>0.865560</td>\n",
       "      <td>51.758668</td>\n",
       "    </tr>\n",
       "    <tr>\n",
       "      <th>min</th>\n",
       "      <td>1.000000</td>\n",
       "      <td>0.000000</td>\n",
       "      <td>0.166700</td>\n",
       "      <td>0.000000</td>\n",
       "      <td>0.000000</td>\n",
       "      <td>0.000000</td>\n",
       "    </tr>\n",
       "    <tr>\n",
       "      <th>25%</th>\n",
       "      <td>2.000000</td>\n",
       "      <td>0.000000</td>\n",
       "      <td>21.000000</td>\n",
       "      <td>0.000000</td>\n",
       "      <td>0.000000</td>\n",
       "      <td>7.895800</td>\n",
       "    </tr>\n",
       "    <tr>\n",
       "      <th>50%</th>\n",
       "      <td>3.000000</td>\n",
       "      <td>0.000000</td>\n",
       "      <td>28.000000</td>\n",
       "      <td>0.000000</td>\n",
       "      <td>0.000000</td>\n",
       "      <td>14.454200</td>\n",
       "    </tr>\n",
       "    <tr>\n",
       "      <th>75%</th>\n",
       "      <td>3.000000</td>\n",
       "      <td>1.000000</td>\n",
       "      <td>39.000000</td>\n",
       "      <td>1.000000</td>\n",
       "      <td>0.000000</td>\n",
       "      <td>31.275000</td>\n",
       "    </tr>\n",
       "    <tr>\n",
       "      <th>max</th>\n",
       "      <td>3.000000</td>\n",
       "      <td>1.000000</td>\n",
       "      <td>80.000000</td>\n",
       "      <td>8.000000</td>\n",
       "      <td>9.000000</td>\n",
       "      <td>512.329200</td>\n",
       "    </tr>\n",
       "  </tbody>\n",
       "</table>\n",
       "</div>"
      ],
      "text/plain": [
       "            pclass     survived          age        sibsp        parch         fare\n",
       "count  1309.000000  1309.000000  1046.000000  1309.000000  1309.000000  1308.000000\n",
       "mean      2.294882     0.381971    29.881135     0.498854     0.385027    33.295479\n",
       "std       0.837836     0.486055    14.413500     1.041658     0.865560    51.758668\n",
       "min       1.000000     0.000000     0.166700     0.000000     0.000000     0.000000\n",
       "25%       2.000000     0.000000    21.000000     0.000000     0.000000     7.895800\n",
       "50%       3.000000     0.000000    28.000000     0.000000     0.000000    14.454200\n",
       "75%       3.000000     1.000000    39.000000     1.000000     0.000000    31.275000\n",
       "max       3.000000     1.000000    80.000000     8.000000     9.000000   512.329200"
      ]
     },
     "execution_count": 25,
     "metadata": {},
     "output_type": "execute_result"
    }
   ],
   "source": [
    "# feature magnitude\n",
    "\n",
    "data.describe()"
   ]
  },
  {
   "cell_type": "markdown",
   "id": "f97a13d3",
   "metadata": {},
   "source": [
    "Features are in different ranges or scales. But this is not relevant for gradient boosted trees. "
   ]
  },
  {
   "cell_type": "markdown",
   "id": "b6227ad9",
   "metadata": {},
   "source": [
    "### Engineering mixed type of variables\n",
    "\n",
    "Extract numerical and categorical parts of variables."
   ]
  },
  {
   "cell_type": "code",
   "execution_count": 30,
   "id": "810d9890",
   "metadata": {},
   "outputs": [
    {
     "data": {
      "text/html": [
       "<div>\n",
       "<style scoped>\n",
       "    .dataframe tbody tr th:only-of-type {\n",
       "        vertical-align: middle;\n",
       "    }\n",
       "\n",
       "    .dataframe tbody tr th {\n",
       "        vertical-align: top;\n",
       "    }\n",
       "\n",
       "    .dataframe thead th {\n",
       "        text-align: right;\n",
       "    }\n",
       "</style>\n",
       "<table border=\"1\" class=\"dataframe\">\n",
       "  <thead>\n",
       "    <tr style=\"text-align: right;\">\n",
       "      <th></th>\n",
       "      <th>pclass</th>\n",
       "      <th>survived</th>\n",
       "      <th>sex</th>\n",
       "      <th>age</th>\n",
       "      <th>sibsp</th>\n",
       "      <th>parch</th>\n",
       "      <th>fare</th>\n",
       "      <th>cabin</th>\n",
       "      <th>embarked</th>\n",
       "      <th>cabin_num</th>\n",
       "      <th>cabin_cat</th>\n",
       "    </tr>\n",
       "  </thead>\n",
       "  <tbody>\n",
       "    <tr>\n",
       "      <th>0</th>\n",
       "      <td>1</td>\n",
       "      <td>1</td>\n",
       "      <td>female</td>\n",
       "      <td>29.0000</td>\n",
       "      <td>0</td>\n",
       "      <td>0</td>\n",
       "      <td>211.3375</td>\n",
       "      <td>B5</td>\n",
       "      <td>S</td>\n",
       "      <td>5.0</td>\n",
       "      <td>B</td>\n",
       "    </tr>\n",
       "    <tr>\n",
       "      <th>1</th>\n",
       "      <td>1</td>\n",
       "      <td>1</td>\n",
       "      <td>male</td>\n",
       "      <td>0.9167</td>\n",
       "      <td>1</td>\n",
       "      <td>2</td>\n",
       "      <td>151.5500</td>\n",
       "      <td>C22</td>\n",
       "      <td>S</td>\n",
       "      <td>22.0</td>\n",
       "      <td>C</td>\n",
       "    </tr>\n",
       "    <tr>\n",
       "      <th>2</th>\n",
       "      <td>1</td>\n",
       "      <td>0</td>\n",
       "      <td>female</td>\n",
       "      <td>2.0000</td>\n",
       "      <td>1</td>\n",
       "      <td>2</td>\n",
       "      <td>151.5500</td>\n",
       "      <td>C22</td>\n",
       "      <td>S</td>\n",
       "      <td>22.0</td>\n",
       "      <td>C</td>\n",
       "    </tr>\n",
       "    <tr>\n",
       "      <th>3</th>\n",
       "      <td>1</td>\n",
       "      <td>0</td>\n",
       "      <td>male</td>\n",
       "      <td>30.0000</td>\n",
       "      <td>1</td>\n",
       "      <td>2</td>\n",
       "      <td>151.5500</td>\n",
       "      <td>C22</td>\n",
       "      <td>S</td>\n",
       "      <td>22.0</td>\n",
       "      <td>C</td>\n",
       "    </tr>\n",
       "    <tr>\n",
       "      <th>4</th>\n",
       "      <td>1</td>\n",
       "      <td>0</td>\n",
       "      <td>female</td>\n",
       "      <td>25.0000</td>\n",
       "      <td>1</td>\n",
       "      <td>2</td>\n",
       "      <td>151.5500</td>\n",
       "      <td>C22</td>\n",
       "      <td>S</td>\n",
       "      <td>22.0</td>\n",
       "      <td>C</td>\n",
       "    </tr>\n",
       "  </tbody>\n",
       "</table>\n",
       "</div>"
      ],
      "text/plain": [
       "   pclass  survived     sex      age  sibsp  parch      fare cabin embarked  cabin_num cabin_cat\n",
       "0       1         1  female  29.0000      0      0  211.3375    B5        S        5.0         B\n",
       "1       1         1    male   0.9167      1      2  151.5500   C22        S       22.0         C\n",
       "2       1         0  female   2.0000      1      2  151.5500   C22        S       22.0         C\n",
       "3       1         0    male  30.0000      1      2  151.5500   C22        S       22.0         C\n",
       "4       1         0  female  25.0000      1      2  151.5500   C22        S       22.0         C"
      ]
     },
     "execution_count": 30,
     "metadata": {},
     "output_type": "execute_result"
    }
   ],
   "source": [
    "# Cabin\n",
    "data['cabin_num'] = data['cabin'].str.extract('(\\d+)') # captures numerical part\n",
    "data['cabin_num'] = data['cabin_num'].astype('float')\n",
    "data['cabin_cat'] = data['cabin'].str[0] # captures the first letter\n",
    "\n",
    "# show dataframe\n",
    "data.head()"
   ]
  },
  {
   "cell_type": "code",
   "execution_count": 31,
   "id": "efc6e531",
   "metadata": {},
   "outputs": [],
   "source": [
    "# drop original mixed\n",
    "data.drop(['cabin'], axis=1, inplace = True)"
   ]
  },
  {
   "cell_type": "code",
   "execution_count": 32,
   "id": "efbcdcff",
   "metadata": {},
   "outputs": [
    {
     "data": {
      "text/plain": [
       "((1178, 9), (131, 9))"
      ]
     },
     "execution_count": 32,
     "metadata": {},
     "output_type": "execute_result"
    }
   ],
   "source": [
    "# separate into training and testing set\n",
    "\n",
    "X_train, X_test, y_train, y_test = train_test_split(\n",
    "    data.drop('survived', axis=1),  # predictors\n",
    "    data['survived'],  # target\n",
    "    test_size=0.1,  # percentage of obs in test set\n",
    "    random_state=0)  # seed to ensure reproducibility\n",
    "\n",
    "X_train.shape, X_test.shape"
   ]
  },
  {
   "cell_type": "markdown",
   "id": "a8c5ac9f",
   "metadata": {},
   "source": [
    "### Missing data imputation"
   ]
  },
  {
   "cell_type": "code",
   "execution_count": 34,
   "id": "4e87cb94",
   "metadata": {},
   "outputs": [
    {
     "data": {
      "text/plain": [
       "pclass       0.000000\n",
       "age          0.198642\n",
       "sibsp        0.000000\n",
       "parch        0.000000\n",
       "fare         0.000849\n",
       "cabin_num    0.782683\n",
       "dtype: float64"
      ]
     },
     "execution_count": 34,
     "metadata": {},
     "output_type": "execute_result"
    }
   ],
   "source": [
    "# numerical\n",
    "\n",
    "X_train.select_dtypes(exclude='O').isnull().mean()"
   ]
  },
  {
   "cell_type": "code",
   "execution_count": 35,
   "id": "259dca85",
   "metadata": {},
   "outputs": [
    {
     "data": {
      "text/plain": [
       "sex          0.000000\n",
       "embarked     0.001698\n",
       "cabin_cat    0.771647\n",
       "dtype: float64"
      ]
     },
     "execution_count": 35,
     "metadata": {},
     "output_type": "execute_result"
    }
   ],
   "source": [
    "# numerical\n",
    "\n",
    "X_train.select_dtypes(include='O').isnull().mean()"
   ]
  },
  {
   "cell_type": "markdown",
   "id": "9418c870",
   "metadata": {},
   "source": [
    "Imputation methods I will perform:\n",
    "\n",
    "- Numerical: arbitrary value imputation\n",
    "- Categorical: add missing label imputation\n",
    "\n",
    "Because I will build a Gradient Boosted tree, I am not particularly worried about disturbing linearity or distributions of variables.\n",
    "\n",
    "### Categorical encoding and rare labels"
   ]
  },
  {
   "cell_type": "code",
   "execution_count": 36,
   "id": "5626451d",
   "metadata": {},
   "outputs": [
    {
     "data": {
      "text/plain": [
       "sex          2\n",
       "embarked     3\n",
       "cabin_cat    8\n",
       "dtype: int64"
      ]
     },
     "execution_count": 36,
     "metadata": {},
     "output_type": "execute_result"
    }
   ],
   "source": [
    "# check cardinality again\n",
    "\n",
    "X_train[['sex','embarked','cabin_cat']].nunique()"
   ]
  },
  {
   "cell_type": "markdown",
   "id": "170fb061",
   "metadata": {},
   "source": [
    "Now that I extracted the numerical and categorical part from cabin, its cardinality is not so high."
   ]
  },
  {
   "cell_type": "code",
   "execution_count": 40,
   "id": "a3d9bda0",
   "metadata": {},
   "outputs": [
    {
     "data": {
      "text/plain": [
       "T    0.000849\n",
       "G    0.003396\n",
       "A    0.016978\n",
       "F    0.016978\n",
       "E    0.033107\n",
       "D    0.033956\n",
       "B    0.049236\n",
       "C    0.073854\n",
       "Name: cabin_cat, dtype: float64"
      ]
     },
     "execution_count": 40,
     "metadata": {},
     "output_type": "execute_result"
    }
   ],
   "source": [
    "# check variable frequency\n",
    "\n",
    "var = 'cabin_cat'\n",
    "(X_train[var].value_counts()/len(X_train)).sort_values()"
   ]
  },
  {
   "cell_type": "markdown",
   "id": "9b0a1f52",
   "metadata": {},
   "source": [
    "Categories T and G appear only in few observations, so I will replace them into rare."
   ]
  },
  {
   "cell_type": "markdown",
   "id": "4dcc8b8a",
   "metadata": {},
   "source": [
    "### Discretisation or Variable transformation\n",
    "\n",
    "Let's inspect the variable distributions."
   ]
  },
  {
   "cell_type": "code",
   "execution_count": 43,
   "id": "9255f3d3",
   "metadata": {},
   "outputs": [
    {
     "data": {
      "image/png": "[encoded data removed]",
      "text/plain": [
       "<Figure size 720x432 with 6 Axes>"
      ]
     },
     "metadata": {
      "needs_background": "light"
     },
     "output_type": "display_data"
    }
   ],
   "source": [
    "X_train.select_dtypes(exclude='O').hist(bins=30, figsize=(10, 6));"
   ]
  },
  {
   "cell_type": "markdown",
   "id": "5fff86d3",
   "metadata": {},
   "source": [
    "For decision trees, the variable distribution is not so important, so in principle, we don't need to change it. Also decision trees are robust to outliers."
   ]
  },
  {
   "cell_type": "markdown",
   "id": "0435a8bc",
   "metadata": {},
   "source": [
    "## Putting it all together"
   ]
  },
  {
   "cell_type": "code",
   "execution_count": 46,
   "id": "033efddd",
   "metadata": {},
   "outputs": [],
   "source": [
    "titanic_pipe = Pipeline([\n",
    "    \n",
    "    # missing data imputation\n",
    "    ('imputer', mdi.ArbitraryNumberImputer(arbitrary_number=-1,\n",
    "                                variables=['age', 'fare', 'cabin_num'])),\n",
    "     \n",
    "     ('imputer_cat', mdi.CategoricalImputer(variables=['embarked', 'cabin_cat'])),\n",
    "     \n",
    "     # categorical encoding\n",
    "     ('encoder_rare_label', ce.RareLabelEncoder(tol=0.01, n_categories=6, variables=['cabin_cat'])),\n",
    "     \n",
    "     ('categorical_encoder', ce.OrdinalEncoder(encoding_method='ordered',\n",
    "                                              variables=['cabin_cat', 'sex', 'embarked'])),\n",
    "     \n",
    "    # Gradient Boosted machine\n",
    "     ('gbm', GradientBoostingClassifier(random_state=0)),\n",
    "])"
   ]
  },
  {
   "cell_type": "code",
   "execution_count": 47,
   "id": "e9f68f89",
   "metadata": {},
   "outputs": [
    {
     "data": {
      "text/plain": [
       "Pipeline(steps=[('imputer',\n",
       "                 ArbitraryNumberImputer(arbitrary_number=-1,\n",
       "                                        variables=['age', 'fare',\n",
       "                                                   'cabin_num'])),\n",
       "                ('imputer_cat',\n",
       "                 CategoricalImputer(variables=['embarked', 'cabin_cat'])),\n",
       "                ('encoder_rare_label',\n",
       "                 RareLabelEncoder(n_categories=6, tol=0.01,\n",
       "                                  variables=['cabin_cat'])),\n",
       "                ('categorical_encoder',\n",
       "                 OrdinalEncoder(variables=['cabin_cat', 'sex', 'embarked'])),\n",
       "                ('gbm', GradientBoostingClassifier(random_state=0))])"
      ]
     },
     "execution_count": 47,
     "metadata": {},
     "output_type": "execute_result"
    }
   ],
   "source": [
    "# fit the pipeline\n",
    "\n",
    "titanic_pipe.fit(X_train, y_train)"
   ]
  },
  {
   "cell_type": "code",
   "execution_count": 48,
   "id": "4c6f6553",
   "metadata": {},
   "outputs": [],
   "source": [
    "# get predictions\n",
    "\n",
    "X_train_preds = titanic_pipe.predict_proba(X_train)[:,1]\n",
    "X_test_preds = titanic_pipe.predict_proba(X_test)[:,1]"
   ]
  },
  {
   "cell_type": "code",
   "execution_count": 49,
   "id": "652245b8",
   "metadata": {},
   "outputs": [
    {
     "data": {
      "text/plain": [
       "array([0.0689847 , 0.90658578, 0.15908975, 0.06367159, 0.17791482,\n",
       "       0.74072152, 0.38378954, 0.41451956, 0.05955047, 0.08394796,\n",
       "       0.08407773, 0.16693395, 0.22860405, 0.43667703, 0.97278257,\n",
       "       0.1163335 , 0.85664039, 0.35375522, 0.90310204, 0.1122268 ,\n",
       "       0.10102298, 0.06696516, 0.11081688, 0.98902348, 0.68818959,\n",
       "       0.76688779, 0.11194896, 0.10702554, 0.18086863, 0.53008098,\n",
       "       0.85173025, 0.97995342, 0.89212837, 0.22570669, 0.96547644,\n",
       "       0.17524357, 0.08891292, 0.13770317, 0.1304045 , 0.12923185,\n",
       "       0.07947767, 0.09422555, 0.54325576, 0.51739052, 0.53131983,\n",
       "       0.10325684, 0.10396067, 0.96374738, 0.54652355, 0.09347427,\n",
       "       0.7905079 , 0.08090529, 0.10279439, 0.57095795, 0.12923185,\n",
       "       0.10235538, 0.96426345, 0.34680949, 0.59942401, 0.91476525,\n",
       "       0.11285239, 0.34334925, 0.06947905, 0.68818959, 0.07420899,\n",
       "       0.84246692, 0.1163335 , 0.1304045 , 0.14991266, 0.51337874,\n",
       "       0.88661298, 0.09887372, 0.4183714 , 0.08590872, 0.59011924,\n",
       "       0.9674615 , 0.10353866, 0.95517216, 0.65404194, 0.14197927,\n",
       "       0.29767597, 0.51665714, 0.13327939, 0.46916431, 0.69313549,\n",
       "       0.95405694, 0.25099779, 0.06295015, 0.08440527, 0.45421244,\n",
       "       0.1304045 , 0.1304045 , 0.07077674, 0.1031908 , 0.21278177,\n",
       "       0.26353727, 0.13310065, 0.27111484, 0.11287707, 0.94155029,\n",
       "       0.2009295 , 0.16275277, 0.44256306, 0.4464674 , 0.10932483,\n",
       "       0.08179773, 0.03816598, 0.10142644, 0.12308208, 0.10031597,\n",
       "       0.33359636, 0.59591281, 0.14601958, 0.08710609, 0.46684291,\n",
       "       0.0534959 , 0.14601958, 0.20003637, 0.14091557, 0.92904469,\n",
       "       0.42558145, 0.33740586, 0.27876558, 0.34762505, 0.05962751,\n",
       "       0.14197927, 0.08090529, 0.10020946, 0.41859692, 0.11948602,\n",
       "       0.08090529])"
      ]
     },
     "execution_count": 49,
     "metadata": {},
     "output_type": "execute_result"
    }
   ],
   "source": [
    "X_test_preds"
   ]
  },
  {
   "cell_type": "code",
   "execution_count": 50,
   "id": "f8f215d8",
   "metadata": {},
   "outputs": [
    {
     "name": "stdout",
     "output_type": "stream",
     "text": [
      "Train set\n",
      "GBM roc-auc: 0.9269576293912577\n",
      "Test set\n",
      "GBM roc-auc: 0.8396084337349397\n"
     ]
    }
   ],
   "source": [
    "print('Train set')\n",
    "print('GBM roc-auc: {}'.format(roc_auc_score(y_train, X_train_preds)))\n",
    "\n",
    "print('Test set')\n",
    "print('GBM roc-auc: {}'.format(roc_auc_score(y_test, X_test_preds)))"
   ]
  },
  {
   "cell_type": "code",
   "execution_count": 52,
   "id": "5e0858f6",
   "metadata": {},
   "outputs": [
    {
     "data": {
      "text/plain": [
       "{'imputer': ArbitraryNumberImputer(arbitrary_number=-1,\n",
       "                        variables=['age', 'fare', 'cabin_num']),\n",
       " 'imputer_cat': CategoricalImputer(variables=['embarked', 'cabin_cat']),\n",
       " 'encoder_rare_label': RareLabelEncoder(n_categories=6, tol=0.01, variables=['cabin_cat']),\n",
       " 'categorical_encoder': OrdinalEncoder(variables=['cabin_cat', 'sex', 'embarked']),\n",
       " 'gbm': GradientBoostingClassifier(random_state=0)}"
      ]
     },
     "execution_count": 52,
     "metadata": {},
     "output_type": "execute_result"
    }
   ],
   "source": [
    "# lets explore properties of the pipeline\n",
    "titanic_pipe.named_steps"
   ]
  },
  {
   "cell_type": "code",
   "execution_count": 53,
   "id": "e14a32ba",
   "metadata": {},
   "outputs": [
    {
     "data": {
      "text/plain": [
       "array([0, 1], dtype=int64)"
      ]
     },
     "execution_count": 53,
     "metadata": {},
     "output_type": "execute_result"
    }
   ],
   "source": [
    "titanic_pipe.classes_"
   ]
  },
  {
   "cell_type": "code",
   "execution_count": 58,
   "id": "23486ee2",
   "metadata": {},
   "outputs": [
    {
     "data": {
      "text/plain": [
       "array([0.13039525, 0.5135576 , 0.08203248, 0.01557852, 0.01716258,\n",
       "       0.15146649, 0.01941162, 0.05636807, 0.01402738])"
      ]
     },
     "execution_count": 58,
     "metadata": {},
     "output_type": "execute_result"
    }
   ],
   "source": [
    "# get feature importances\n",
    "titanic_pipe.named_steps['gbm'].feature_importances_"
   ]
  },
  {
   "cell_type": "code",
   "execution_count": 62,
   "id": "4410527e",
   "metadata": {},
   "outputs": [
    {
     "data": {
      "image/png": "[encoded data removed]",
      "text/plain": [
       "<Figure size 576x432 with 1 Axes>"
      ]
     },
     "metadata": {
      "needs_background": "light"
     },
     "output_type": "display_data"
    }
   ],
   "source": [
    "importance = pd.Series(titanic_pipe.named_steps['gbm'].feature_importances_)\n",
    "importance.index = data.drop('survived', axis = 1).columns\n",
    "importance.sort_values(ascending=False).plot.bar(figsize= (8,6))\n",
    "plt.show();"
   ]
  },
  {
   "cell_type": "code",
   "execution_count": null,
   "id": "9570dad4",
   "metadata": {},
   "outputs": [],
   "source": []
  }
 ],
 "metadata": {
  "kernelspec": {
   "display_name": "Python 3 (ipykernel)",
   "language": "python",
   "name": "python3"
  },
  "language_info": {
   "codemirror_mode": {
    "name": "ipython",
    "version": 3
   },
   "file_extension": ".py",
   "mimetype": "text/x-python",
   "name": "python",
   "nbconvert_exporter": "python",
   "pygments_lexer": "ipython3",
   "version": "3.9.5"
  }
 },
 "nbformat": 4,
 "nbformat_minor": 5
}
